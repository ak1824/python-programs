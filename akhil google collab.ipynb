{
  "nbformat": 4,
  "nbformat_minor": 0,
  "metadata": {
    "colab": {
      "provenance": []
    },
    "kernelspec": {
      "name": "python3",
      "display_name": "Python 3"
    },
    "language_info": {
      "name": "python"
    }
  },
  "cells": [
    {
      "cell_type": "code",
      "execution_count": null,
      "metadata": {
        "colab": {
          "base_uri": "https://localhost:8080/"
        },
        "id": "y97LOFsRbabR",
        "outputId": "9220337f-932e-45dc-9dc2-85f885229be0"
      },
      "outputs": [
        {
          "output_type": "stream",
          "name": "stdout",
          "text": [
            "hello world!\n"
          ]
        }
      ],
      "source": [
        "print(\"hello world!\")"
      ]
    },
    {
      "cell_type": "code",
      "source": [
        "print(hello world)#i didnt use the double quotes\n",
        "\n"
      ],
      "metadata": {
        "colab": {
          "base_uri": "https://localhost:8080/",
          "height": 111
        },
        "id": "xKHPnVdzbjov",
        "outputId": "a6d8ea07-bb08-404b-e8f4-c1c51a5c4a12"
      },
      "execution_count": null,
      "outputs": [
        {
          "output_type": "error",
          "ename": "SyntaxError",
          "evalue": "invalid syntax. Perhaps you forgot a comma? (<ipython-input-3-6135c6da936c>, line 1)",
          "traceback": [
            "\u001b[0;36m  File \u001b[0;32m\"<ipython-input-3-6135c6da936c>\"\u001b[0;36m, line \u001b[0;32m1\u001b[0m\n\u001b[0;31m    print(hello world)\u001b[0m\n\u001b[0m          ^\u001b[0m\n\u001b[0;31mSyntaxError\u001b[0m\u001b[0;31m:\u001b[0m invalid syntax. Perhaps you forgot a comma?\n"
          ]
        }
      ]
    },
    {
      "cell_type": "markdown",
      "source": [],
      "metadata": {
        "id": "zsKNJjrzdcK8"
      }
    },
    {
      "cell_type": "code",
      "source": [
        "print(\"akhil\")"
      ],
      "metadata": {
        "colab": {
          "base_uri": "https://localhost:8080/"
        },
        "id": "Vi8JFoLkcsGE",
        "outputId": "0f6690db-8c1d-44a1-fdc8-fc7a642bfdfe"
      },
      "execution_count": null,
      "outputs": [
        {
          "output_type": "stream",
          "name": "stdout",
          "text": [
            "akhil\n"
          ]
        }
      ]
    },
    {
      "cell_type": "code",
      "source": [
        "print(myself \"ganesh raju\")#i didnt use the double quotes"
      ],
      "metadata": {
        "colab": {
          "base_uri": "https://localhost:8080/",
          "height": 111
        },
        "id": "nfN_KjPLc_DT",
        "outputId": "60c1a6fa-f917-4ded-fb4e-87ad86dceb5b"
      },
      "execution_count": null,
      "outputs": [
        {
          "output_type": "error",
          "ename": "SyntaxError",
          "evalue": "invalid syntax (<ipython-input-7-d51f251722d7>, line 1)",
          "traceback": [
            "\u001b[0;36m  File \u001b[0;32m\"<ipython-input-7-d51f251722d7>\"\u001b[0;36m, line \u001b[0;32m1\u001b[0m\n\u001b[0;31m    print(myself \"ganesh raju\")#i didnt use the double quotes\u001b[0m\n\u001b[0m                 ^\u001b[0m\n\u001b[0;31mSyntaxError\u001b[0m\u001b[0;31m:\u001b[0m invalid syntax\n"
          ]
        }
      ]
    },
    {
      "cell_type": "code",
      "source": [
        "print(6+9)"
      ],
      "metadata": {
        "colab": {
          "base_uri": "https://localhost:8080/"
        },
        "id": "sVVta_efdLVq",
        "outputId": "ea435812-55fd-48ed-d1a9-a2ec015dd575"
      },
      "execution_count": null,
      "outputs": [
        {
          "output_type": "stream",
          "name": "stdout",
          "text": [
            "15\n"
          ]
        }
      ]
    },
    {
      "cell_type": "code",
      "source": [
        "print(70-30)"
      ],
      "metadata": {
        "colab": {
          "base_uri": "https://localhost:8080/"
        },
        "id": "BuEYOIdseQ9f",
        "outputId": "3830aa9c-d3f1-4506-a62e-6c609f608ae5"
      },
      "execution_count": null,
      "outputs": [
        {
          "output_type": "stream",
          "name": "stdout",
          "text": [
            "40\n"
          ]
        }
      ]
    },
    {
      "cell_type": "code",
      "source": [
        "print(20/3)"
      ],
      "metadata": {
        "colab": {
          "base_uri": "https://localhost:8080/"
        },
        "id": "YFz_XMNzeXM2",
        "outputId": "0bb7581c-8b9e-42db-f6ef-5f76223ae5dd"
      },
      "execution_count": null,
      "outputs": [
        {
          "output_type": "stream",
          "name": "stdout",
          "text": [
            "6.666666666666667\n"
          ]
        }
      ]
    },
    {
      "cell_type": "code",
      "source": [
        "print(20/2)"
      ],
      "metadata": {
        "colab": {
          "base_uri": "https://localhost:8080/"
        },
        "id": "cUnFMId2eeNe",
        "outputId": "0a73fa75-950c-429b-8cb9-e9f43068cc54"
      },
      "execution_count": null,
      "outputs": [
        {
          "output_type": "stream",
          "name": "stdout",
          "text": [
            "10.0\n"
          ]
        }
      ]
    },
    {
      "cell_type": "code",
      "source": [
        "print('hello world!')"
      ],
      "metadata": {
        "colab": {
          "base_uri": "https://localhost:8080/"
        },
        "id": "SBtsusX8fNjE",
        "outputId": "67552610-223d-462b-cc36-b0dc323fbbf3"
      },
      "execution_count": null,
      "outputs": [
        {
          "output_type": "stream",
          "name": "stdout",
          "text": [
            "hello world!\n"
          ]
        }
      ]
    },
    {
      "cell_type": "code",
      "source": [
        "print(\"hello kgrcet\")"
      ],
      "metadata": {
        "colab": {
          "base_uri": "https://localhost:8080/"
        },
        "id": "BTLj6BCYl3j5",
        "outputId": "1c14577f-26db-4ca9-af3b-5a35ab1ec9df"
      },
      "execution_count": null,
      "outputs": [
        {
          "output_type": "stream",
          "name": "stdout",
          "text": [
            "hello kgrcet\n"
          ]
        }
      ]
    },
    {
      "cell_type": "code",
      "source": [
        "print('welcome to python workshop')"
      ],
      "metadata": {
        "colab": {
          "base_uri": "https://localhost:8080/"
        },
        "id": "P1zZ9DEVl9iY",
        "outputId": "d026792a-ade4-459d-b699-b2adac6d8d9e"
      },
      "execution_count": null,
      "outputs": [
        {
          "output_type": "stream",
          "name": "stdout",
          "text": [
            "welcome to python workshop\n"
          ]
        }
      ]
    },
    {
      "cell_type": "code",
      "source": [
        "name=input(\"enter your name:\")\n",
        "print(\"hello,\"+name)"
      ],
      "metadata": {
        "colab": {
          "base_uri": "https://localhost:8080/"
        },
        "id": "xIcDkZVcmGq4",
        "outputId": "adc23219-472f-4f0e-9769-13636fb2d9d0"
      },
      "execution_count": null,
      "outputs": [
        {
          "output_type": "stream",
          "name": "stdout",
          "text": [
            "enter your name:akhil\n",
            "hello,akhil\n"
          ]
        }
      ]
    },
    {
      "cell_type": "code",
      "source": [
        "roll=input(\"enter a your rollno:\")\n",
        "print(roll)\n",
        "print(\"roll no:is,\"+roll)"
      ],
      "metadata": {
        "colab": {
          "base_uri": "https://localhost:8080/"
        },
        "id": "47KX9qxumkIX",
        "outputId": "066edbde-5f66-426b-d866-134ed1e9e8fa"
      },
      "execution_count": null,
      "outputs": [
        {
          "output_type": "stream",
          "name": "stdout",
          "text": [
            "enter a your rollno:24qm1a6639\n",
            "24qm1a6639\n",
            "roll no:is,24qm1a6639\n"
          ]
        }
      ]
    },
    {
      "cell_type": "code",
      "source": [
        "x=18\n",
        "print(x)"
      ],
      "metadata": {
        "colab": {
          "base_uri": "https://localhost:8080/"
        },
        "id": "cS21UOZgtNyX",
        "outputId": "09939ad6-5064-48da-c245-e90e2b38b84d"
      },
      "execution_count": null,
      "outputs": [
        {
          "output_type": "stream",
          "name": "stdout",
          "text": [
            "18\n"
          ]
        }
      ]
    },
    {
      "cell_type": "code",
      "source": [
        "x=\"kgrcet\"\n",
        "print(x)"
      ],
      "metadata": {
        "colab": {
          "base_uri": "https://localhost:8080/"
        },
        "id": "KbTkQahytTq0",
        "outputId": "387f094a-28c8-4fdf-b736-91f3b158a759"
      },
      "execution_count": null,
      "outputs": [
        {
          "output_type": "stream",
          "name": "stdout",
          "text": [
            "kgrcet\n"
          ]
        }
      ]
    },
    {
      "cell_type": "code",
      "source": [
        "age=18 #age program\n",
        "print(\"i am\"+str(age)+\"years old\")\n"
      ],
      "metadata": {
        "id": "W21bEOLetaQL",
        "colab": {
          "base_uri": "https://localhost:8080/"
        },
        "outputId": "58d57805-7290-48b8-c276-517e25b60720"
      },
      "execution_count": null,
      "outputs": [
        {
          "output_type": "stream",
          "name": "stdout",
          "text": [
            "i am18years old\n"
          ]
        }
      ]
    },
    {
      "cell_type": "code",
      "source": [
        "a=1800\n",
        "A=\"KGRCET\"\n",
        "print(a)\n",
        "print(A)"
      ],
      "metadata": {
        "colab": {
          "base_uri": "https://localhost:8080/"
        },
        "id": "gPq7pQ848Pus",
        "outputId": "19446807-a50d-4fe6-8af9-64bec4ff910a"
      },
      "execution_count": null,
      "outputs": [
        {
          "output_type": "stream",
          "name": "stdout",
          "text": [
            "1800\n",
            "KGRCET\n"
          ]
        }
      ]
    },
    {
      "cell_type": "markdown",
      "source": [],
      "metadata": {
        "id": "rj1sK69R8j7s"
      }
    },
    {
      "cell_type": "code",
      "source": [
        "X=5\n",
        "y=\"KGRCET\"\n",
        "print(X)\n",
        "print(y)"
      ],
      "metadata": {
        "colab": {
          "base_uri": "https://localhost:8080/"
        },
        "id": "cO2HaR9h9xbq",
        "outputId": "0134a5ff-90f4-4e14-9336-06fb4196d738"
      },
      "execution_count": null,
      "outputs": [
        {
          "output_type": "stream",
          "name": "stdout",
          "text": [
            "5\n",
            "KGRCET\n"
          ]
        }
      ]
    },
    {
      "cell_type": "code",
      "source": [
        "x=\"paython\"\n",
        "y=\"ok\"\n",
        "z=\"good\"\n",
        "print(x + y + z)"
      ],
      "metadata": {
        "colab": {
          "base_uri": "https://localhost:8080/"
        },
        "id": "syoP1gwM9-cV",
        "outputId": "defd6301-1a4f-4b91-8ec3-e15c6ac39b23"
      },
      "execution_count": null,
      "outputs": [
        {
          "output_type": "stream",
          "name": "stdout",
          "text": [
            "paythonokgood\n"
          ]
        }
      ]
    },
    {
      "cell_type": "code",
      "source": [
        "x=50\n",
        "y=\"kgr\"\n",
        "print(x,y)"
      ],
      "metadata": {
        "colab": {
          "base_uri": "https://localhost:8080/"
        },
        "id": "uE7XaXYk-dqk",
        "outputId": "bd2cf1d5-ac5b-4b86-c40b-c16e91868178"
      },
      "execution_count": null,
      "outputs": [
        {
          "output_type": "stream",
          "name": "stdout",
          "text": [
            "50 kgr\n"
          ]
        }
      ]
    },
    {
      "cell_type": "code",
      "source": [
        "x=y=z=3\n",
        "print(x,y,z)"
      ],
      "metadata": {
        "colab": {
          "base_uri": "https://localhost:8080/"
        },
        "id": "ieVIGAp3-zm7",
        "outputId": "3ff5b1e3-59ce-4e04-dc78-f97c02f89685"
      },
      "execution_count": null,
      "outputs": [
        {
          "output_type": "stream",
          "name": "stdout",
          "text": [
            "3 3 3\n"
          ]
        }
      ]
    },
    {
      "cell_type": "code",
      "source": [],
      "metadata": {
        "id": "Z9pHADNb_zB4"
      },
      "execution_count": null,
      "outputs": []
    },
    {
      "cell_type": "markdown",
      "source": [
        "swapping of numbers"
      ],
      "metadata": {
        "id": "L43pbfSzAR-M"
      }
    },
    {
      "cell_type": "code",
      "source": [
        "a=10\n",
        "b=20\n",
        "c,b=b,a\n",
        "print(a,b)\n"
      ],
      "metadata": {
        "colab": {
          "base_uri": "https://localhost:8080/"
        },
        "id": "m-oRNsHWAWIO",
        "outputId": "f493e0db-8e58-4867-d332-8b1fc2a4c771"
      },
      "execution_count": null,
      "outputs": [
        {
          "output_type": "stream",
          "name": "stdout",
          "text": [
            "10 10\n"
          ]
        }
      ]
    },
    {
      "cell_type": "code",
      "source": [
        "x,y,z=\"orange\", \"banna\", \"cherry\"\n",
        "print(x)\n",
        "print(y)\n",
        "print(z)\n"
      ],
      "metadata": {
        "colab": {
          "base_uri": "https://localhost:8080/"
        },
        "id": "N6gMZTCpBBEk",
        "outputId": "a1a77859-8421-48a6-8765-ad80da6b77f3"
      },
      "execution_count": null,
      "outputs": [
        {
          "output_type": "stream",
          "name": "stdout",
          "text": [
            "orange\n",
            "banna\n",
            "cherry\n"
          ]
        }
      ]
    },
    {
      "cell_type": "code",
      "source": [
        "x=str(3)\n",
        "y=int(3)\n",
        "y=float(3)"
      ],
      "metadata": {
        "id": "K_5gZVToBUK7"
      },
      "execution_count": null,
      "outputs": []
    },
    {
      "cell_type": "code",
      "source": [
        "a=16\n",
        "print(type(a))\n",
        "\n",
        "b=15,10\n",
        "print(type(b))\n",
        "\n",
        "c=65+4j\n",
        "print(type(c))"
      ],
      "metadata": {
        "colab": {
          "base_uri": "https://localhost:8080/"
        },
        "id": "M6oD_1SYCquv",
        "outputId": "25f41db9-2070-461e-fa56-85d773287f7f"
      },
      "execution_count": null,
      "outputs": [
        {
          "output_type": "stream",
          "name": "stdout",
          "text": [
            "<class 'int'>\n",
            "<class 'tuple'>\n",
            "<class 'complex'>\n"
          ]
        }
      ]
    },
    {
      "cell_type": "code",
      "source": [
        "s='welcome to python workshop'\n",
        "print(s)\n",
        "\n",
        "#check data tytpe\n",
        "print(type(s))\n",
        "\n",
        "#acess string with index\n",
        "\n",
        "print(s[1])\n",
        "print(s[2])\n",
        "print(s[-1])\n",
        "(s[7])\n",
        "print(s[7])"
      ],
      "metadata": {
        "colab": {
          "base_uri": "https://localhost:8080/"
        },
        "id": "AKga9eB1G3Kj",
        "outputId": "fc7514b5-e5f4-4085-ed98-cbe514ef54c5"
      },
      "execution_count": null,
      "outputs": [
        {
          "output_type": "stream",
          "name": "stdout",
          "text": [
            "welcome to python workshop\n",
            "<class 'str'>\n",
            "e\n",
            "l\n",
            "p\n",
            " \n"
          ]
        }
      ]
    },
    {
      "cell_type": "code",
      "source": [
        "s='my name is kgrec'\n",
        "print(type(s))\n",
        "\n",
        "#acess string with index\n",
        "\n",
        "print(s[1])\n",
        "print(s[3])\n",
        "print(s[4])\n",
        "print(s[7])"
      ],
      "metadata": {
        "colab": {
          "base_uri": "https://localhost:8080/"
        },
        "id": "Wh2PbQTvIRbA",
        "outputId": "bfae82a5-425a-4d1e-8e90-4ba9404d9fbc"
      },
      "execution_count": null,
      "outputs": [
        {
          "output_type": "stream",
          "name": "stdout",
          "text": [
            "<class 'str'>\n",
            "y\n",
            "n\n",
            "a\n",
            " \n"
          ]
        }
      ]
    },
    {
      "cell_type": "code",
      "source": [
        "string_one =\"im studying \"\n",
        "string_two =\"in first year in kgrcet\"\n",
        "string_three =string_one + string_two\n",
        "print(string_three)"
      ],
      "metadata": {
        "colab": {
          "base_uri": "https://localhost:8080/"
        },
        "id": "rhdjLn4YJbuc",
        "outputId": "dac9b83c-907b-494a-efb9-c4426984a692"
      },
      "execution_count": null,
      "outputs": [
        {
          "output_type": "stream",
          "name": "stdout",
          "text": [
            "im studying in first year in kgrcet\n"
          ]
        }
      ]
    },
    {
      "cell_type": "code",
      "source": [
        "'akhil'*18\n",
        "print(\"akhil\"*18)\n"
      ],
      "metadata": {
        "colab": {
          "base_uri": "https://localhost:8080/"
        },
        "id": "JKMUZBupLdkW",
        "outputId": "567f8567-33ae-4fc6-9ed1-e7d29e7f27e0"
      },
      "execution_count": null,
      "outputs": [
        {
          "output_type": "stream",
          "name": "stdout",
          "text": [
            "akhilakhilakhilakhilakhilakhilakhilakhilakhilakhilakhilakhilakhilakhilakhilakhilakhilakhil\n"
          ]
        }
      ]
    },
    {
      "cell_type": "code",
      "source": [],
      "metadata": {
        "id": "mtGzsJ3yMaAT"
      },
      "execution_count": null,
      "outputs": []
    },
    {
      "cell_type": "markdown",
      "source": [
        "list"
      ],
      "metadata": {
        "id": "aeeM1dnmXN8C"
      }
    },
    {
      "cell_type": "code",
      "source": [
        "#empty list\n",
        "a=[]\n",
        "\n",
        "#list with int values\n",
        "a=[2,3,3,]\n",
        "print(a)\n",
        "\n",
        "#list with mixed int and string\n",
        "b=[\"ganesh\", \"hi\", \"python\",4,5]\n",
        "print(b)\n",
        "\n",
        "\n",
        "\n"
      ],
      "metadata": {
        "colab": {
          "base_uri": "https://localhost:8080/"
        },
        "id": "4QgD7OL4XQpn",
        "outputId": "c162ba4c-3155-4f32-ae01-2e77d25c1002"
      },
      "execution_count": null,
      "outputs": [
        {
          "output_type": "stream",
          "name": "stdout",
          "text": [
            "[2, 3, 3]\n",
            "['ganesh', 'hi', 'python', 4, 5]\n"
          ]
        }
      ]
    },
    {
      "cell_type": "markdown",
      "source": [
        "sort a list"
      ],
      "metadata": {
        "id": "ZCLVonmJcOhY"
      }
    },
    {
      "cell_type": "code",
      "source": [
        "alpha_list = [34,23,67,100,88,2]\n",
        "alpha_list.sort()\n",
        "alpha_list\n",
        "[2,23,34,67,88,100]"
      ],
      "metadata": {
        "colab": {
          "base_uri": "https://localhost:8080/"
        },
        "id": "WhcWOoybXyvM",
        "outputId": "b6eda2ec-ffd3-422b-9672-06b85b51c4d9"
      },
      "execution_count": null,
      "outputs": [
        {
          "output_type": "execute_result",
          "data": {
            "text/plain": [
              "[2, 23, 34, 67, 88, 100]"
            ]
          },
          "metadata": {},
          "execution_count": 110
        }
      ]
    },
    {
      "cell_type": "code",
      "source": [
        "alpha_list[0:4]\n",
        "[23,67,100,88,2]"
      ],
      "metadata": {
        "colab": {
          "base_uri": "https://localhost:8080/"
        },
        "id": "ZE1zQpEucL-A",
        "outputId": "4618cd68-fb3e-4a7c-8894-94a25f84df3a"
      },
      "execution_count": null,
      "outputs": [
        {
          "output_type": "execute_result",
          "data": {
            "text/plain": [
              "[23, 67, 100, 88, 2]"
            ]
          },
          "metadata": {},
          "execution_count": 112
        }
      ]
    },
    {
      "cell_type": "markdown",
      "source": [],
      "metadata": {
        "id": "H0fA-tQIcNmg"
      }
    },
    {
      "cell_type": "code",
      "source": [
        "beta_list = [\"apple\", \"banana\", \"orange\"]\n",
        "beta_list.append(\"grape\")\n",
        "print(beta_list)"
      ],
      "metadata": {
        "colab": {
          "base_uri": "https://localhost:8080/"
        },
        "id": "YjA7k0c2c8a3",
        "outputId": "253041eb-0af1-4f9d-9532-ba953a86952b"
      },
      "execution_count": null,
      "outputs": [
        {
          "output_type": "stream",
          "name": "stdout",
          "text": [
            "['apple', 'banana', 'orange', 'grape']\n"
          ]
        }
      ]
    },
    {
      "cell_type": "code",
      "source": [
        "beta_list = [\"apple\", \"banana\", \"orange\"]\n",
        "beta_list.insert(2,\"grape\")\n",
        "print(beta_list)"
      ],
      "metadata": {
        "colab": {
          "base_uri": "https://localhost:8080/"
        },
        "id": "OkeWQ5h-dT_C",
        "outputId": "64114b6c-a363-40ce-c00d-90ead546845d"
      },
      "execution_count": null,
      "outputs": [
        {
          "output_type": "stream",
          "name": "stdout",
          "text": [
            "['apple', 'banana', 'grape', 'orange']\n"
          ]
        }
      ]
    },
    {
      "cell_type": "code",
      "source": [
        "beta_list = [\"apple\", \"banana\", \"orange\"]\n",
        "beta_list.sort()\n",
        "beta_list\n",
        "[\"apple\", \"banana\", \"orange\"]"
      ],
      "metadata": {
        "colab": {
          "base_uri": "https://localhost:8080/"
        },
        "id": "SIqz3ygfdwiC",
        "outputId": "f8ab51d0-f263-4c97-e92d-2cf50b242962"
      },
      "execution_count": null,
      "outputs": [
        {
          "output_type": "execute_result",
          "data": {
            "text/plain": [
              "['apple', 'banana', 'orange']"
            ]
          },
          "metadata": {},
          "execution_count": 118
        }
      ]
    },
    {
      "cell_type": "code",
      "source": [
        "beta_list = [\"apple\", \"banana\", \"orange\"]\n",
        "beta_list.remove(\"apple\")\n",
        "print(beta_list)"
      ],
      "metadata": {
        "colab": {
          "base_uri": "https://localhost:8080/"
        },
        "id": "Ye3yCufVerdQ",
        "outputId": "c970a00d-3b0e-4bba-d657-94525bbc387e"
      },
      "execution_count": null,
      "outputs": [
        {
          "output_type": "stream",
          "name": "stdout",
          "text": [
            "['banana', 'orange']\n"
          ]
        }
      ]
    },
    {
      "cell_type": "code",
      "source": [
        "beta_list = [\"apple\", \"banana\", \"orange\"]\n",
        "beta_list.pop()\n",
        "print(beta_list)\n"
      ],
      "metadata": {
        "colab": {
          "base_uri": "https://localhost:8080/"
        },
        "id": "A_fa3heqfW_H",
        "outputId": "4ecdd080-2605-4c96-bb9e-8900052358ba"
      },
      "execution_count": null,
      "outputs": [
        {
          "output_type": "stream",
          "name": "stdout",
          "text": [
            "['apple', 'banana']\n"
          ]
        }
      ]
    },
    {
      "cell_type": "markdown",
      "source": [
        "# operators"
      ],
      "metadata": {
        "id": "NJCsUG1AfxwO"
      }
    },
    {
      "cell_type": "code",
      "source": [
        "#variable\n",
        "a=10\n",
        "b=3\n",
        "\n",
        "#addition of varibles\n",
        "print(a+b)\n"
      ],
      "metadata": {
        "id": "Z05zAnoZfnZT",
        "colab": {
          "base_uri": "https://localhost:8080/"
        },
        "outputId": "ebb49238-061d-4356-e365-8232501ea1e5"
      },
      "execution_count": null,
      "outputs": [
        {
          "output_type": "stream",
          "name": "stdout",
          "text": [
            "13\n"
          ]
        }
      ]
    },
    {
      "cell_type": "code",
      "source": [
        "#substraction of varibles\n",
        "a=12\n",
        "b=20\n",
        "print(a-b)"
      ],
      "metadata": {
        "colab": {
          "base_uri": "https://localhost:8080/"
        },
        "id": "w9VhofQugExE",
        "outputId": "8add542a-acf4-4cd1-e190-653f40fb6bea"
      },
      "execution_count": null,
      "outputs": [
        {
          "output_type": "stream",
          "name": "stdout",
          "text": [
            "-8\n"
          ]
        }
      ]
    },
    {
      "cell_type": "code",
      "source": [
        "#multiplication\n",
        "print(a*str(b)),"
      ],
      "metadata": {
        "colab": {
          "base_uri": "https://localhost:8080/"
        },
        "id": "ZPWU9zfCgPXj",
        "outputId": "94350005-b366-4dcd-ffb2-f4538a13b4ad"
      },
      "execution_count": null,
      "outputs": [
        {
          "output_type": "stream",
          "name": "stdout",
          "text": [
            "202020202020202020202020\n"
          ]
        },
        {
          "output_type": "execute_result",
          "data": {
            "text/plain": [
              "(None,)"
            ]
          },
          "metadata": {},
          "execution_count": 8
        }
      ]
    },
    {
      "cell_type": "code",
      "source": [
        "a=10\n",
        "b=4\n",
        "\n",
        "#floor division\n",
        "print(\"floor division\",a//b)"
      ],
      "metadata": {
        "colab": {
          "base_uri": "https://localhost:8080/"
        },
        "id": "A7wUj2fKgcIi",
        "outputId": "3f70be02-b8d7-49af-f002-53cdd12942ff"
      },
      "execution_count": null,
      "outputs": [
        {
          "output_type": "stream",
          "name": "stdout",
          "text": [
            "floor division 2\n"
          ]
        }
      ]
    },
    {
      "cell_type": "markdown",
      "source": [
        "problem solution"
      ],
      "metadata": {
        "id": "C5vvnNCfiN53"
      }
    },
    {
      "cell_type": "code",
      "source": [
        "D=7425\n",
        "s=550\n",
        "t=D/s\n",
        "print(t)"
      ],
      "metadata": {
        "colab": {
          "base_uri": "https://localhost:8080/"
        },
        "id": "STdN5tCthlaH",
        "outputId": "69b0c627-578f-40ef-a5eb-5617637ebc69"
      },
      "execution_count": null,
      "outputs": [
        {
          "output_type": "stream",
          "name": "stdout",
          "text": [
            "13.5\n"
          ]
        }
      ]
    },
    {
      "cell_type": "code",
      "source": [
        "bill=50\n",
        "print(\"tip:\",20*50/100)"
      ],
      "metadata": {
        "colab": {
          "base_uri": "https://localhost:8080/"
        },
        "id": "3AQTZXaUje31",
        "outputId": "c6424d4d-5760-45ac-8e79-6f49757373bf"
      },
      "execution_count": null,
      "outputs": [
        {
          "output_type": "stream",
          "name": "stdout",
          "text": [
            "tip: 10.0\n"
          ]
        }
      ]
    },
    {
      "cell_type": "code",
      "source": [
        "bill=50\n",
        "print(\"tip:\",40*50/100)"
      ],
      "metadata": {
        "colab": {
          "base_uri": "https://localhost:8080/"
        },
        "id": "vREIRRlIjpk4",
        "outputId": "ef5b74f0-0577-4da6-853e-450e25188f3a"
      },
      "execution_count": null,
      "outputs": [
        {
          "output_type": "stream",
          "name": "stdout",
          "text": [
            "tip: 20.0\n"
          ]
        }
      ]
    },
    {
      "cell_type": "code",
      "source": [
        "a=15\n",
        "b=-2\n",
        "print(a > b)"
      ],
      "metadata": {
        "colab": {
          "base_uri": "https://localhost:8080/"
        },
        "id": "pbzmJnSbkmuG",
        "outputId": "66c348de-b8f4-4fad-f924-d4b4da1f9738"
      },
      "execution_count": null,
      "outputs": [
        {
          "output_type": "stream",
          "name": "stdout",
          "text": [
            "True\n"
          ]
        }
      ]
    },
    {
      "cell_type": "code",
      "source": [
        "print(a < b)"
      ],
      "metadata": {
        "colab": {
          "base_uri": "https://localhost:8080/"
        },
        "id": "lZFxiBK4mdCQ",
        "outputId": "60b3d0ad-9d9d-4ad3-a8a7-bd30f2b169a2"
      },
      "execution_count": null,
      "outputs": [
        {
          "output_type": "stream",
          "name": "stdout",
          "text": [
            "False\n"
          ]
        }
      ]
    },
    {
      "cell_type": "code",
      "source": [
        "print(a == b)"
      ],
      "metadata": {
        "colab": {
          "base_uri": "https://localhost:8080/"
        },
        "id": "Jhv_EIwqmhdg",
        "outputId": "8c14d921-f85f-4342-d2e0-268f3ed45d34"
      },
      "execution_count": null,
      "outputs": [
        {
          "output_type": "stream",
          "name": "stdout",
          "text": [
            "False\n"
          ]
        }
      ]
    },
    {
      "cell_type": "code",
      "source": [
        "print(a <= b)"
      ],
      "metadata": {
        "colab": {
          "base_uri": "https://localhost:8080/"
        },
        "id": "kSeoTYj3mmHQ",
        "outputId": "8a8728f0-57a5-4c42-c01a-db2dba7b7a6a"
      },
      "execution_count": null,
      "outputs": [
        {
          "output_type": "stream",
          "name": "stdout",
          "text": [
            "False\n"
          ]
        }
      ]
    },
    {
      "cell_type": "code",
      "source": [
        "a=1\n",
        "b=-15\n",
        "print(a == b)"
      ],
      "metadata": {
        "colab": {
          "base_uri": "https://localhost:8080/"
        },
        "id": "DuAmR3l_m6Wn",
        "outputId": "8c74998f-3e1a-42a2-fb2b-984e3a3bfb95"
      },
      "execution_count": null,
      "outputs": [
        {
          "output_type": "stream",
          "name": "stdout",
          "text": [
            "False\n"
          ]
        }
      ]
    },
    {
      "cell_type": "code",
      "source": [
        "a>=b"
      ],
      "metadata": {
        "colab": {
          "base_uri": "https://localhost:8080/"
        },
        "id": "19tsjuJKnGCe",
        "outputId": "0e596c87-1468-4df3-d88d-1466f68fe39c"
      },
      "execution_count": null,
      "outputs": [
        {
          "output_type": "execute_result",
          "data": {
            "text/plain": [
              "True"
            ]
          },
          "metadata": {},
          "execution_count": 41
        }
      ]
    },
    {
      "cell_type": "markdown",
      "source": [
        "logical operators"
      ],
      "metadata": {
        "id": "bQ1M_ovEnq9f"
      }
    },
    {
      "cell_type": "code",
      "source": [
        "a=True\n",
        "b=False\n",
        "print(not a)"
      ],
      "metadata": {
        "colab": {
          "base_uri": "https://localhost:8080/"
        },
        "id": "w1lBzbyQnMUO",
        "outputId": "990fdac8-7c0a-4e80-858f-fcb905e93926"
      },
      "execution_count": null,
      "outputs": [
        {
          "output_type": "stream",
          "name": "stdout",
          "text": [
            "False\n"
          ]
        }
      ]
    },
    {
      "cell_type": "code",
      "source": [
        "not a"
      ],
      "metadata": {
        "colab": {
          "base_uri": "https://localhost:8080/"
        },
        "id": "Pt0547XBnf_9",
        "outputId": "ed415956-82ad-4742-8a9b-47be6caf9009"
      },
      "execution_count": null,
      "outputs": [
        {
          "output_type": "execute_result",
          "data": {
            "text/plain": [
              "False"
            ]
          },
          "metadata": {},
          "execution_count": 44
        }
      ]
    },
    {
      "cell_type": "code",
      "source": [
        "print(not b)"
      ],
      "metadata": {
        "colab": {
          "base_uri": "https://localhost:8080/"
        },
        "id": "QTzbhkf9njct",
        "outputId": "e81bb50a-091c-43d1-fefe-9382ee5b8932"
      },
      "execution_count": null,
      "outputs": [
        {
          "output_type": "stream",
          "name": "stdout",
          "text": [
            "True\n"
          ]
        }
      ]
    },
    {
      "cell_type": "code",
      "source": [
        "print(a or b)"
      ],
      "metadata": {
        "colab": {
          "base_uri": "https://localhost:8080/"
        },
        "id": "zSDzRw5xno7i",
        "outputId": "1a147257-5c03-4f3b-8dd6-907cf390b0ba"
      },
      "execution_count": null,
      "outputs": [
        {
          "output_type": "stream",
          "name": "stdout",
          "text": [
            "True\n"
          ]
        }
      ]
    },
    {
      "cell_type": "code",
      "source": [],
      "metadata": {
        "id": "TLWqcwneoH_b"
      },
      "execution_count": null,
      "outputs": []
    },
    {
      "cell_type": "markdown",
      "source": [
        "assignment operators"
      ],
      "metadata": {
        "id": "NVsCqnTcoQqu"
      }
    },
    {
      "cell_type": "code",
      "source": [
        "a=10\n",
        "b=a\n",
        "print(b)\n",
        "b += a"
      ],
      "metadata": {
        "colab": {
          "base_uri": "https://localhost:8080/"
        },
        "id": "7suyeXuRoSzj",
        "outputId": "a50b616a-d021-4791-db5b-7608e3ec86d8"
      },
      "execution_count": null,
      "outputs": [
        {
          "output_type": "stream",
          "name": "stdout",
          "text": [
            "5\n"
          ]
        }
      ]
    },
    {
      "cell_type": "code",
      "source": [
        "print(a)\n",
        "a -= b"
      ],
      "metadata": {
        "colab": {
          "base_uri": "https://localhost:8080/"
        },
        "id": "wB3knfbdocfy",
        "outputId": "35886e3f-f751-4b62-e6f3-01d6a6ef0114"
      },
      "execution_count": null,
      "outputs": [
        {
          "output_type": "stream",
          "name": "stdout",
          "text": [
            "-15\n"
          ]
        }
      ]
    },
    {
      "cell_type": "code",
      "source": [
        "print(b)\n",
        "b +=a"
      ],
      "metadata": {
        "colab": {
          "base_uri": "https://localhost:8080/"
        },
        "id": "1gZ80ioroiai",
        "outputId": "c6c4f4ff-5e7d-405a-f0a1-c2570d9d28ab"
      },
      "execution_count": null,
      "outputs": [
        {
          "output_type": "stream",
          "name": "stdout",
          "text": [
            "10\n"
          ]
        }
      ]
    },
    {
      "cell_type": "code",
      "source": [],
      "metadata": {
        "id": "F5pCRzHMo8H5"
      },
      "execution_count": null,
      "outputs": []
    },
    {
      "cell_type": "markdown",
      "source": [
        "identity operators"
      ],
      "metadata": {
        "id": "NS4JqsFdpWAK"
      }
    },
    {
      "cell_type": "markdown",
      "source": [],
      "metadata": {
        "id": "3iybuTvqpV5E"
      }
    },
    {
      "cell_type": "code",
      "source": [
        "a=10\n",
        "b=5\n",
        "c=a\n",
        "print(a is not b)"
      ],
      "metadata": {
        "colab": {
          "base_uri": "https://localhost:8080/"
        },
        "id": "gVvoTwjQpa1c",
        "outputId": "5f2d95da-c3b1-4c93-d00b-864b5912a182"
      },
      "execution_count": null,
      "outputs": [
        {
          "output_type": "stream",
          "name": "stdout",
          "text": [
            "True\n"
          ]
        }
      ]
    },
    {
      "cell_type": "code",
      "source": [
        "print(a is c)"
      ],
      "metadata": {
        "colab": {
          "base_uri": "https://localhost:8080/"
        },
        "id": "Ya1B70rgpjSj",
        "outputId": "cbbd94f1-4309-4212-b4d0-9d4ba01ea2d1"
      },
      "execution_count": null,
      "outputs": [
        {
          "output_type": "stream",
          "name": "stdout",
          "text": [
            "True\n"
          ]
        }
      ]
    },
    {
      "cell_type": "code",
      "source": [
        "print(b is c)"
      ],
      "metadata": {
        "colab": {
          "base_uri": "https://localhost:8080/"
        },
        "id": "NrXPVlXhpqcH",
        "outputId": "c59c008f-7674-4d47-c630-62dff5989936"
      },
      "execution_count": null,
      "outputs": [
        {
          "output_type": "stream",
          "name": "stdout",
          "text": [
            "False\n"
          ]
        }
      ]
    },
    {
      "cell_type": "markdown",
      "source": [
        "membership operators"
      ],
      "metadata": {
        "id": "r8aeoEispyTi"
      }
    },
    {
      "cell_type": "markdown",
      "source": [],
      "metadata": {
        "id": "0Dc5xYPUpxOx"
      }
    },
    {
      "cell_type": "code",
      "source": [
        ">>> \"hello\"+\"\"+\"world\""
      ],
      "metadata": {
        "colab": {
          "base_uri": "https://localhost:8080/",
          "height": 36
        },
        "id": "qfUqMsS2tSIp",
        "outputId": "775b3fa2-19b8-466e-f1f3-d50a21dd0d06"
      },
      "execution_count": null,
      "outputs": [
        {
          "output_type": "execute_result",
          "data": {
            "text/plain": [
              "'helloworld'"
            ],
            "application/vnd.google.colaboratory.intrinsic+json": {
              "type": "string"
            }
          },
          "metadata": {},
          "execution_count": 85
        }
      ]
    },
    {
      "cell_type": "code",
      "source": [
        "age=16\n",
        "if age<18:\n",
        "  print(\"you cant vote !\")\n",
        "else:\n",
        "  print(\"you cant vote!\")\n",
        "print(\"done!\")"
      ],
      "metadata": {
        "colab": {
          "base_uri": "https://localhost:8080/"
        },
        "id": "u4bLtxRztaRc",
        "outputId": "0d9e745c-4b6a-4972-bee7-a293e631a619"
      },
      "execution_count": null,
      "outputs": [
        {
          "output_type": "stream",
          "name": "stdout",
          "text": [
            "you cant vote !\n",
            "done!\n"
          ]
        }
      ]
    },
    {
      "cell_type": "code",
      "source": [
        "age=20\n",
        "if age<18:\n",
        "  print(\"you can vote !\")\n",
        "else:\n",
        "  print(\"you can vote!\")\n",
        "print(\"done!\")\n"
      ],
      "metadata": {
        "colab": {
          "base_uri": "https://localhost:8080/"
        },
        "id": "lmaGrjaCuluR",
        "outputId": "efb33627-708e-4597-effd-84e33506de68"
      },
      "execution_count": null,
      "outputs": [
        {
          "output_type": "stream",
          "name": "stdout",
          "text": [
            "you can vote!\n",
            "done!\n"
          ]
        }
      ]
    },
    {
      "cell_type": "code",
      "source": [
        "if 5>1:\n",
        "  print(\"That is True!\")"
      ],
      "metadata": {
        "colab": {
          "base_uri": "https://localhost:8080/"
        },
        "id": "HKIJS7zgyQ5j",
        "outputId": "3b363a9b-90ee-4677-e9f3-dae5870c2531"
      },
      "execution_count": null,
      "outputs": [
        {
          "output_type": "stream",
          "name": "stdout",
          "text": [
            "That is True!\n"
          ]
        }
      ]
    },
    {
      "cell_type": "code",
      "source": [
        "a=200\n",
        "b=33\n",
        "if b>a:\n",
        "  print(\"b is greater than a\")\n",
        "elif a==b:\n",
        "  print(\"a and b are equal\")\n",
        "else:\n",
        "  print(\"a is greater than b\")"
      ],
      "metadata": {
        "colab": {
          "base_uri": "https://localhost:8080/"
        },
        "id": "raHebFcwybjW",
        "outputId": "ed921a74-352b-4346-c250-e346dfd08c63"
      },
      "execution_count": null,
      "outputs": [
        {
          "output_type": "stream",
          "name": "stdout",
          "text": [
            "a is greater than b\n"
          ]
        }
      ]
    },
    {
      "cell_type": "code",
      "source": [
        "a=200\n",
        "b=33\n",
        "\n",
        "if a > b: print(\"a is greater than b \")"
      ],
      "metadata": {
        "colab": {
          "base_uri": "https://localhost:8080/"
        },
        "id": "8YX8EDkI0Y24",
        "outputId": "3119c782-a5e1-4cd3-e1f5-270107524b64"
      },
      "execution_count": null,
      "outputs": [
        {
          "output_type": "stream",
          "name": "stdout",
          "text": [
            "a is greater than b \n"
          ]
        }
      ]
    },
    {
      "cell_type": "code",
      "source": [
        "#your code goes here\n",
        "weight=int(input(\"enter your weight:\"))"
      ],
      "metadata": {
        "id": "cHQcO2Tx06jm",
        "colab": {
          "base_uri": "https://localhost:8080/"
        },
        "outputId": "8e4fffc7-3b7d-45de-f4fb-e4c44778769f"
      },
      "execution_count": 1,
      "outputs": [
        {
          "name": "stdout",
          "output_type": "stream",
          "text": [
            "enter your weight:60\n"
          ]
        }
      ]
    },
    {
      "cell_type": "code",
      "source": [
        "\n",
        "\n",
        "\n",
        "\n"
      ],
      "metadata": {
        "id": "7kFjep1hJxJw"
      },
      "execution_count": null,
      "outputs": []
    }
  ]
}