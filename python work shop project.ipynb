{
  "nbformat": 4,
  "nbformat_minor": 0,
  "metadata": {
    "colab": {
      "provenance": []
    },
    "kernelspec": {
      "name": "python3",
      "display_name": "Python 3"
    },
    "language_info": {
      "name": "python"
    }
  },
  "cells": [
    {
      "cell_type": "markdown",
      "source": [
        "simple calculator\n"
      ],
      "metadata": {
        "id": "6rRWLP0rTTTa"
      }
    },
    {
      "cell_type": "code",
      "source": [
        "def add(x,y):\n",
        "    return x + y\n",
        "\n",
        "def subtract(x,y):\n",
        "    return x - y\n",
        "\n",
        "def multiply(x,y):\n",
        "     return x * y\n",
        "def divide(x,y):\n",
        "    if y == 0:\n",
        "     return x / y\n",
        "    else:\n",
        "      return \"error! division by zero\"\n",
        "def calculator():\n",
        "    print(\"select operation\")\n",
        "    print(\"1.add\")\n",
        "    print(\"2.subtract\")\n",
        "    print(\"3.multiply\")\n",
        "    print(\"4.divide\")\n",
        "    while True:\n",
        "      choice = input(\"enter choice(1/2/3/4):\")\n",
        "\n",
        "      if choice in ['1','2','3','4']:\n",
        "        num1 = float(input(\"enter first number:\"))\n",
        "        num2 = float(input(\"enter second number:\"))\n",
        "\n",
        "        if choice == '1':\n",
        "            print(f\"the result is:{add(num1,num2)}\")\n",
        "        elif choice == '2':\n",
        "            print(f\"the result is:{subtract(num1,num2)}\")\n",
        "        elif choice == '3':\n",
        "            print(f\"the result is:{multiply(num1,num2)}\")\n",
        "        elif choice == '4':\n",
        "            print(f\"the result is:{divide(num1,num2)}\")\n",
        "\n",
        "        next_calculation = input(\"do you want to perform another calculation?(yes/no):\")\n",
        "        if next_calculation.lower()!= \"yes\":\n",
        "           break\n",
        "    else:\n",
        "      print(\"invalid input\")\n",
        "\n",
        "# run the caluclator\n",
        "calculator()"
      ],
      "metadata": {
        "colab": {
          "base_uri": "https://localhost:8080/"
        },
        "id": "KYNOeBPjTeMZ",
        "outputId": "dcf508ac-74ea-49f1-dad5-45254c8319fa"
      },
      "execution_count": 15,
      "outputs": [
        {
          "name": "stdout",
          "output_type": "stream",
          "text": [
            "select operation\n",
            "1.add\n",
            "2.subtract\n",
            "3.multiply\n",
            "4.divide\n",
            "enter choice(1/2/3/4):3\n",
            "enter first number:1000\n",
            "enter second number:2\n",
            "the result is:2000.0\n",
            "do you want to perform another calculation?(yes/no):yes\n",
            "enter choice(1/2/3/4):4\n",
            "enter first number:107876\n",
            "enter second number:23455\n",
            "the result is:error! division by zero\n",
            "do you want to perform another calculation?(yes/no):no\n"
          ]
        }
      ]
    },
    {
      "cell_type": "code",
      "source": [
        ""
      ],
      "metadata": {
        "id": "2xrqQecQX1vT"
      },
      "execution_count": 14,
      "outputs": []
    },
    {
      "cell_type": "code",
      "source": [],
      "metadata": {
        "id": "oR3e-f4navh4"
      },
      "execution_count": null,
      "outputs": []
    }
  ]
}